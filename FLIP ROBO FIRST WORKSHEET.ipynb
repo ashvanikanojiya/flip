{
 "cells": [
  {
   "cell_type": "code",
   "execution_count": 2,
   "id": "f045fb9d",
   "metadata": {},
   "outputs": [
    {
     "name": "stdout",
     "output_type": "stream",
     "text": [
      "Enter the number: 3\n",
      "factorial of the number is:  6\n"
     ]
    }
   ],
   "source": [
    "n=int(input(\"Enter the number: \"))\n",
    "fact=1\n",
    "while(n>0):\n",
    "    fact=fact*n\n",
    "    n=n-1\n",
    "print(\"factorial of the number is: \",fact)"
   ]
  },
  {
   "cell_type": "code",
   "execution_count": 3,
   "id": "be0d4d0a",
   "metadata": {},
   "outputs": [
    {
     "name": "stdout",
     "output_type": "stream",
     "text": [
      "Enter the number: 4\n",
      "factorial of the number is:  24\n"
     ]
    }
   ],
   "source": [
    "n=int(input(\"Enter the number: \"))\n",
    "fact=1\n",
    "while(n>0):\n",
    "    fact=fact*n\n",
    "    n=n-1\n",
    "print(\"factorial of the number is: \",fact)"
   ]
  },
  {
   "cell_type": "markdown",
   "id": "ecd39db4",
   "metadata": {},
   "source": [
    "#check prime number "
   ]
  },
  {
   "cell_type": "code",
   "execution_count": 11,
   "id": "002c1c22",
   "metadata": {},
   "outputs": [
    {
     "name": "stdout",
     "output_type": "stream",
     "text": [
      "Enter any number3\n",
      "3 number is prime but not composite number\n"
     ]
    }
   ],
   "source": [
    "n=int(input(\"Enter any number\"))\n",
    "if(n==0 or n== 1):\n",
    "    print(n,\"number is neither prime nor compsite\")\n",
    "elif n>1:\n",
    "    for i in range(2,n):\n",
    "        if(n%i==0):\n",
    "            print(n,\"is not prime but composite number\")\n",
    "            break\n",
    "    else:\n",
    "        print(n,\"number is prime but not composite number\")\n",
    "else :\n",
    "        print(\"Please enter positive number only\")"
   ]
  },
  {
   "cell_type": "code",
   "execution_count": 12,
   "id": "967bb100",
   "metadata": {},
   "outputs": [
    {
     "name": "stdout",
     "output_type": "stream",
     "text": [
      "Enter StringHello Welcome to Python\n",
      "Hello Welcome to Python\n",
      "1\n"
     ]
    }
   ],
   "source": [
    "str=input(\"Enter String\")\n",
    "print(str)\n",
    "l=list(str)\n",
    "print(1)\n"
   ]
  },
  {
   "cell_type": "code",
   "execution_count": null,
   "id": "1fc87586",
   "metadata": {},
   "outputs": [],
   "source": [
    "\n",
    "    "
   ]
  }
 ],
 "metadata": {
  "kernelspec": {
   "display_name": "Python 3 (ipykernel)",
   "language": "python",
   "name": "python3"
  },
  "language_info": {
   "codemirror_mode": {
    "name": "ipython",
    "version": 3
   },
   "file_extension": ".py",
   "mimetype": "text/x-python",
   "name": "python",
   "nbconvert_exporter": "python",
   "pygments_lexer": "ipython3",
   "version": "3.9.7"
  }
 },
 "nbformat": 4,
 "nbformat_minor": 5
}
